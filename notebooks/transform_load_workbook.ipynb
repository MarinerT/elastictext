{
 "cells": [
  {
   "cell_type": "code",
   "execution_count": 3,
   "metadata": {},
   "outputs": [],
   "source": [
    "import numpy as np\n",
    "import pandas as pd\n",
    "from pymongo import MongoClient"
   ]
  },
  {
   "cell_type": "code",
   "execution_count": 5,
   "metadata": {},
   "outputs": [],
   "source": [
    "# %load encodings.py\n",
    "#!/bin/usr/env python\n",
    "\n",
    "def get_encoding(file):\n",
    "    import codecs\n",
    "    encodings = ['UTF_8', 'ASCII','latin_1','iso8859_1','iso8859_15','cp1252','gb2312','euc_kr','cp1251','koi8_r','cp1250','iso8859_2',\n",
    " 'cp1256','iso8859_6','big5','big5hkscs','cp037','cp424','cp437','cp500','cp737','cp775','cp850',\n",
    " 'cp852','cp855','cp856','cp857','cp860','cp861','cp862','cp863','cp864','cp865','cp866','cp869',\n",
    " 'cp874','cp875','cp932','cp949','cp950','cp1006','cp1026','cp1140','cp1250','cp1251','cp1252','cp1253','cp1254','cp1255',\n",
    " 'cp1256','cp1257','cp1258','euc_jp','euc_jis_2004','euc_jisx0213','euc_kr','gb2312','gbk','gb18030','hz',\n",
    "'iso2022_jp','iso2022_jp_1','iso2022_jp_2','iso2022_jp_2004','iso2022_jp_3','iso2022_jp_ext','iso2022_kr',\n",
    " 'iso8859_2','iso8859_3','iso8859_4','iso8859_5','iso8859_6','iso8859_7','iso8859_8','iso8859_9','iso8859_10','iso8859_13','iso8859_14','iso8859_15',\n",
    " 'johab','koi8_r','koi8_u','mac_cyrillic','mac_greek','mac_iceland','mac_latin2','mac_roman','mac_turkish',\n",
    " 'shift_jis','shift_jis_2004','shift_jisx0213','utf_16','utf_16_be','utf_16_le','utf_7']\n",
    "    \n",
    "    for e in encodings:\n",
    "        try:\n",
    "            fh = codecs.open(file, 'r', encoding=e)\n",
    "            fh.readlines()\n",
    "            fh.seek(0)\n",
    "        except UnicodeDecodeError:\n",
    "            pass\n",
    "        else:\n",
    "            return e\n",
    "            break"
   ]
  },
  {
   "cell_type": "code",
   "execution_count": 14,
   "metadata": {},
   "outputs": [],
   "source": [
    "def load_transform(file):\n",
    "    #loads and cleans the time as a time element, and drops the 'flag' column\n",
    "    \n",
    "    #loading params\n",
    "    e = get_encoding(file_o)\n",
    "    headers = ['target', 'id','date','drop_this','user','text']\n",
    "    \n",
    "    #create initial df\n",
    "    df = pd.read_csv(file_o, names=headers, encoding=e)\n",
    "    \n",
    "    #clean time\n",
    "    df.date = pd.to_datetime(df.date, utc=False)\n",
    "    \n",
    "    #drop column\n",
    "    df = df.drop(['drop_this'], axis=1)\n",
    "    \n",
    "    return df"
   ]
  },
  {
   "cell_type": "code",
   "execution_count": 114,
   "metadata": {},
   "outputs": [
    {
     "data": {
      "text/plain": [
       "<pymongo.results.InsertManyResult at 0x7fc86ae9fc00>"
      ]
     },
     "execution_count": 114,
     "metadata": {},
     "output_type": "execute_result"
    }
   ],
   "source": [
    "#functions\n",
    "def conn_to_mongo(host, db, coll, statement=\"Connected\"):\n",
    "    \n",
    "    try:\n",
    "        Host =  MongoClient(host)\n",
    "        DB = myclient[db]\n",
    "        Collection = DB[coll]\n",
    "        print(statement)\n",
    "        return Host, DB, Collection\n",
    "    \n",
    "    except:\n",
    "        print('Connection refused. Is your MongoDB running?')\n",
    "        \n",
    "    return Host, DB, Collection\n",
    "        \n",
    "def upload_df_to_mongodb(df, host, db, coll,orient='records'):\n",
    "    # Connect to MongoDB\n",
    "    Host, DB, Collection = conn_to_mongo(host, db, coll,statement=\"Connected, preparing to upload...\")\n",
    "\n",
    "    #prep df for transfer\n",
    "    df.reset_index(inplace=True)\n",
    "    data_dict = df.to_dict(orient)\n",
    "\n",
    "    # Insert collection\n",
    "    try: \n",
    "        Collection.insert_many(data_dict)\n",
    "        print('Successfully uploaded the data.')\n",
    "    except:\n",
    "        print(\"Something went wrong; the data was not uploaded.\")\n",
    "    "
   ]
  },
  {
   "cell_type": "code",
   "execution_count": null,
   "metadata": {},
   "outputs": [],
   "source": [
    "#params\n",
    "file = 'data/training.1600000.processed.noemoticon.csv'\n",
    "db = 'tweetydfdb'\n",
    "coll = 'tweetydf'\n",
    "client = \"mongodb://localhost:27017/\""
   ]
  },
  {
   "cell_type": "code",
   "execution_count": 16,
   "metadata": {},
   "outputs": [
    {
     "name": "stderr",
     "output_type": "stream",
     "text": [
      "/Users/albertmorrow/opt/anaconda3/lib/python3.8/site-packages/dateutil/parser/_parser.py:1213: UnknownTimezoneWarning: tzname PDT identified but not understood.  Pass `tzinfos` argument in order to correctly return a timezone-aware datetime.  In a future version, this will raise an exception.\n",
      "  warnings.warn(\"tzname {tzname} identified but not understood.  \"\n"
     ]
    }
   ],
   "source": [
    "df = load_transform(file)"
   ]
  },
  {
   "cell_type": "code",
   "execution_count": null,
   "metadata": {},
   "outputs": [],
   "source": [
    "upload_df_to_mongodb(df, host, db, coll)"
   ]
  }
 ],
 "metadata": {
  "kernelspec": {
   "display_name": "Python 3",
   "language": "python",
   "name": "python3"
  },
  "language_info": {
   "codemirror_mode": {
    "name": "ipython",
    "version": 3
   },
   "file_extension": ".py",
   "mimetype": "text/x-python",
   "name": "python",
   "nbconvert_exporter": "python",
   "pygments_lexer": "ipython3",
   "version": "3.8.5"
  }
 },
 "nbformat": 4,
 "nbformat_minor": 4
}
